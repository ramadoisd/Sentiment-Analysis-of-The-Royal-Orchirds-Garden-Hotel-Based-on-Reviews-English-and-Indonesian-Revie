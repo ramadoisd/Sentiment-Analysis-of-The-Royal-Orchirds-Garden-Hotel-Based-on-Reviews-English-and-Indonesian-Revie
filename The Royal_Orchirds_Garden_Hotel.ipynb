{
 "cells": [
  {
   "cell_type": "markdown",
   "id": "c0856df2-b549-4e25-9569-df77196c87f9",
   "metadata": {},
   "source": [
    "# Sentiment Analysis of The Royal Orchirds Garden Hotel Based on Reviews (English and Indonesian Reviews)"
   ]
  },
  {
   "cell_type": "markdown",
   "id": "4cd3985f-5bbd-46c7-838a-7da3dc95f591",
   "metadata": {},
   "source": [
    "#### This analysis purposed to see the sentiments accoridng the reviews by TripAdvisor. The Hotel i choose is based the hotel that my family choose to stay during 2023 new year eve :), The Royal Orchirds Garden Hotel in Batu City, East Java, Indonesia. The data is completly open for public as TripAdvisor reviews can be seen public as well. This data was scraped with Data Miner extension by Chrome and later edited for analysis.  No intention to discredit the hotel performance at all"
   ]
  },
  {
   "cell_type": "markdown",
   "id": "388ac3c3-ae5f-40c3-bfb0-eba205ed2932",
   "metadata": {},
   "source": [
    "TripAdvisor: https://www.tripadvisor.ca/Hotel_Review-g1237079-d1222471-Reviews-or70-Royal_Orchids_Garden_Hotel-Batu_East_Java_Java.html\n",
    "\n",
    "NLTK Documentation: https://www.nltk.org/api/nltk.sentiment.sentiment_analyzer.html\n",
    "\n",
    "Data Miner Chrome Extension: https://dataminer.io/"
   ]
  },
  {
   "cell_type": "markdown",
   "id": "0e12aed5-2423-4fc8-b3eb-f9af43a20875",
   "metadata": {},
   "source": [
    "# Importing Libraries"
   ]
  },
  {
   "cell_type": "markdown",
   "id": "c6e0918b-9b55-4942-a3f3-1a9598e4b808",
   "metadata": {},
   "source": [
    "### The first step is to importing the libraries that i will use for this project. This project will use Sentiment Intensity Analyzer by nltk sentiment vader"
   ]
  },
  {
   "cell_type": "code",
   "execution_count": 1,
   "id": "615010ac-ee38-4090-baf1-5ea5172a0d80",
   "metadata": {},
   "outputs": [
    {
     "name": "stderr",
     "output_type": "stream",
     "text": [
      "[nltk_data] Downloading package vader_lexicon to C:\\Users\\WINDOWS\n",
      "[nltk_data]     10\\AppData\\Roaming\\nltk_data...\n",
      "[nltk_data]   Package vader_lexicon is already up-to-date!\n"
     ]
    }
   ],
   "source": [
    "#Importing basic libraries\n",
    "import pandas as pd\n",
    "import matplotlib.pyplot as plt\n",
    "from matplotlib.pyplot import figure\n",
    "# We can analyzing by using NLTK to import Sentiment Intensity Analyzer\n",
    "import nltk\n",
    "nltk.download('vader_lexicon')\n",
    "from nltk.sentiment.vader import SentimentIntensityAnalyzer"
   ]
  },
  {
   "cell_type": "markdown",
   "id": "6b6a3c99-efa7-44c7-8b13-d88f676858e8",
   "metadata": {},
   "source": [
    "# Importing Data"
   ]
  },
  {
   "cell_type": "markdown",
   "id": "a9c0e113-860b-4ee3-9bf3-5f48a9e13772",
   "metadata": {},
   "source": [
    "### We will begin with English Reviews first"
   ]
  },
  {
   "cell_type": "code",
   "execution_count": 2,
   "id": "ed8f311e-014a-4f9e-89a5-0706d15d0da6",
   "metadata": {},
   "outputs": [],
   "source": [
    "#Importing English Reviews data\n",
    "reviews = pd.read_csv('reviews.csv')"
   ]
  },
  {
   "cell_type": "code",
   "execution_count": 3,
   "id": "850eb451-367c-4dfa-8941-cac86a1706f0",
   "metadata": {},
   "outputs": [
    {
     "data": {
      "text/html": [
       "<div>\n",
       "<style scoped>\n",
       "    .dataframe tbody tr th:only-of-type {\n",
       "        vertical-align: middle;\n",
       "    }\n",
       "\n",
       "    .dataframe tbody tr th {\n",
       "        vertical-align: top;\n",
       "    }\n",
       "\n",
       "    .dataframe thead th {\n",
       "        text-align: right;\n",
       "    }\n",
       "</style>\n",
       "<table border=\"1\" class=\"dataframe\">\n",
       "  <thead>\n",
       "    <tr style=\"text-align: right;\">\n",
       "      <th></th>\n",
       "      <th>Review</th>\n",
       "    </tr>\n",
       "  </thead>\n",
       "  <tbody>\n",
       "    <tr>\n",
       "      <th>0</th>\n",
       "      <td>this is old hotel but they still have a great ...</td>\n",
       "    </tr>\n",
       "    <tr>\n",
       "      <th>1</th>\n",
       "      <td>The pool and garden very nice.The room is spac...</td>\n",
       "    </tr>\n",
       "    <tr>\n",
       "      <th>2</th>\n",
       "      <td>Stayed 3 night with my family, room is clean a...</td>\n",
       "    </tr>\n",
       "    <tr>\n",
       "      <th>3</th>\n",
       "      <td>We visited this hotel on weekend, like most ho...</td>\n",
       "    </tr>\n",
       "    <tr>\n",
       "      <th>4</th>\n",
       "      <td>We stay at Junior Executive Room..a very recom...</td>\n",
       "    </tr>\n",
       "    <tr>\n",
       "      <th>...</th>\n",
       "      <td>...</td>\n",
       "    </tr>\n",
       "    <tr>\n",
       "      <th>94</th>\n",
       "      <td>This hotel has no air conditioner. Even though...</td>\n",
       "    </tr>\n",
       "    <tr>\n",
       "      <th>95</th>\n",
       "      <td>I don't really like this hotel. The room is no...</td>\n",
       "    </tr>\n",
       "    <tr>\n",
       "      <th>96</th>\n",
       "      <td>Between the lack of air conditioning, the croa...</td>\n",
       "    </tr>\n",
       "    <tr>\n",
       "      <th>97</th>\n",
       "      <td>This is our favorite hotel for staying in batu...</td>\n",
       "    </tr>\n",
       "    <tr>\n",
       "      <th>98</th>\n",
       "      <td>This is old hotel may need some renovation but...</td>\n",
       "    </tr>\n",
       "  </tbody>\n",
       "</table>\n",
       "<p>99 rows × 1 columns</p>\n",
       "</div>"
      ],
      "text/plain": [
       "                                               Review\n",
       "0   this is old hotel but they still have a great ...\n",
       "1   The pool and garden very nice.The room is spac...\n",
       "2   Stayed 3 night with my family, room is clean a...\n",
       "3   We visited this hotel on weekend, like most ho...\n",
       "4   We stay at Junior Executive Room..a very recom...\n",
       "..                                                ...\n",
       "94  This hotel has no air conditioner. Even though...\n",
       "95  I don't really like this hotel. The room is no...\n",
       "96  Between the lack of air conditioning, the croa...\n",
       "97  This is our favorite hotel for staying in batu...\n",
       "98  This is old hotel may need some renovation but...\n",
       "\n",
       "[99 rows x 1 columns]"
      ]
     },
     "execution_count": 3,
     "metadata": {},
     "output_type": "execute_result"
    }
   ],
   "source": [
    "reviews"
   ]
  },
  {
   "cell_type": "markdown",
   "id": "b636a436-ef5c-466c-9651-cc3f8f1e31ca",
   "metadata": {},
   "source": [
    "# Analyzing English Reviews"
   ]
  },
  {
   "cell_type": "markdown",
   "id": "7e17dd02-aa5b-4a69-975d-7d2f159fde89",
   "metadata": {},
   "source": [
    "### Reviews will be devided to 3 categories: Positive, Negative, and Neutral"
   ]
  },
  {
   "cell_type": "code",
   "execution_count": 4,
   "id": "91c8ac02-c89e-4af7-b21d-3d298754ff06",
   "metadata": {},
   "outputs": [],
   "source": [
    "sentiments = SentimentIntensityAnalyzer()"
   ]
  },
  {
   "cell_type": "code",
   "execution_count": 5,
   "id": "9bdf72ca-f8aa-46a4-b24a-e71c373f0b7b",
   "metadata": {},
   "outputs": [
    {
     "name": "stdout",
     "output_type": "stream",
     "text": [
      "                                              Review  Positive  Negative  \\\n",
      "0  this is old hotel but they still have a great ...     0.411     0.000   \n",
      "1  The pool and garden very nice.The room is spac...     0.053     0.000   \n",
      "2  Stayed 3 night with my family, room is clean a...     0.405     0.000   \n",
      "3  We visited this hotel on weekend, like most ho...     0.245     0.000   \n",
      "4  We stay at Junior Executive Room..a very recom...     0.171     0.042   \n",
      "\n",
      "   Neutral  \n",
      "0    0.589  \n",
      "1    0.947  \n",
      "2    0.595  \n",
      "3    0.755  \n",
      "4    0.787  \n"
     ]
    }
   ],
   "source": [
    "reviews[\"Positive\"] = [sentiments.polarity_scores(i)[\"pos\"] for i in reviews[\"Review\"]]\n",
    "reviews[\"Negative\"] = [sentiments.polarity_scores(i)[\"neg\"] for i in reviews[\"Review\"]]\n",
    "reviews[\"Neutral\"] = [sentiments.polarity_scores(i)[\"neu\"] for i in reviews[\"Review\"]]\n",
    "print(reviews.head())"
   ]
  },
  {
   "cell_type": "code",
   "execution_count": 6,
   "id": "83647fa6-6c3d-44fd-87a9-023f76a77fd0",
   "metadata": {},
   "outputs": [
    {
     "name": "stdout",
     "output_type": "stream",
     "text": [
      "Neutral 🙂 \n"
     ]
    }
   ],
   "source": [
    "x = sum(reviews[\"Positive\"])\n",
    "y = sum(reviews[\"Negative\"])\n",
    "z = sum(reviews[\"Neutral\"])\n",
    "\n",
    "def sentiment_score(a, b, c):\n",
    "    if (a>b) and (a>c):\n",
    "        print(\"Positive 😊 \")\n",
    "    elif (b>a) and (b>c):\n",
    "        print(\"Negative 😠 \")\n",
    "    else:\n",
    "        print(\"Neutral 🙂 \")\n",
    "sentiment_score(x, y, z)"
   ]
  },
  {
   "cell_type": "markdown",
   "id": "7093a2cc-6f52-4174-95e5-f83b275df266",
   "metadata": {},
   "source": [
    "### Most of the reviews are Neutral according the Sentiment Intensity Analyzer"
   ]
  },
  {
   "cell_type": "code",
   "execution_count": 7,
   "id": "5655479a-b811-4c0c-895a-a2a4cdd5f003",
   "metadata": {},
   "outputs": [
    {
     "name": "stdout",
     "output_type": "stream",
     "text": [
      "Positive:  21.087000000000003\n",
      "Negative:  4.400000000000001\n",
      "Neutral:  73.51200000000001\n"
     ]
    }
   ],
   "source": [
    "print(\"Positive: \", x)\n",
    "print(\"Negative: \", y)\n",
    "print(\"Neutral: \", z)"
   ]
  },
  {
   "cell_type": "markdown",
   "id": "ac362dd5-4c3d-40ec-b97f-8bc1b7a3e553",
   "metadata": {},
   "source": [
    "# Percentage of Sentiments according the English reviews"
   ]
  },
  {
   "cell_type": "code",
   "execution_count": 8,
   "id": "436c20c7-01ca-437c-94d1-67449df24388",
   "metadata": {},
   "outputs": [
    {
     "name": "stdout",
     "output_type": "stream",
     "text": [
      "Percentage of Positive Review: 21.300000000000004%\n",
      "Percentage of Negative Review: 4.4444444444444455%\n",
      "Percentage of Neutral Review: 74.25454545454546%\n"
     ]
    }
   ],
   "source": [
    "print('Percentage of Positive Review: {}%'.format(x*100/len(reviews['Review'])))\n",
    "print('Percentage of Negative Review: {}%'.format(y*100/len(reviews['Review'])))\n",
    "print('Percentage of Neutral Review: {}%'.format(z*100/len(reviews['Review'])))"
   ]
  },
  {
   "cell_type": "markdown",
   "id": "fbb67a2d-c45a-4a7f-8a3a-334f429efd9a",
   "metadata": {},
   "source": [
    "### Based on the sentiment analysis, we can conclude that most of people have neutral sentiment on hotel (74%), however, the ngeative sentiment consist oly 4.4% which small number."
   ]
  },
  {
   "cell_type": "markdown",
   "id": "7ddacb1f-aed7-48d3-99b0-5ed9fff78c66",
   "metadata": {},
   "source": [
    "# Comparing with Reviews in Indonesian"
   ]
  },
  {
   "cell_type": "markdown",
   "id": "f9d0135b-debd-412b-92d3-3b89bd4e80fd",
   "metadata": {},
   "source": [
    "### I decided to seperate the data to giving a comparison between local and foreign reviews"
   ]
  },
  {
   "cell_type": "code",
   "execution_count": 9,
   "id": "4b91f65c-259c-4b95-8505-0256b9cf96cf",
   "metadata": {},
   "outputs": [
    {
     "data": {
      "text/html": [
       "<div>\n",
       "<style scoped>\n",
       "    .dataframe tbody tr th:only-of-type {\n",
       "        vertical-align: middle;\n",
       "    }\n",
       "\n",
       "    .dataframe tbody tr th {\n",
       "        vertical-align: top;\n",
       "    }\n",
       "\n",
       "    .dataframe thead th {\n",
       "        text-align: right;\n",
       "    }\n",
       "</style>\n",
       "<table border=\"1\" class=\"dataframe\">\n",
       "  <thead>\n",
       "    <tr style=\"text-align: right;\">\n",
       "      <th></th>\n",
       "      <th>Review</th>\n",
       "    </tr>\n",
       "  </thead>\n",
       "  <tbody>\n",
       "    <tr>\n",
       "      <th>0</th>\n",
       "      <td>Hotel yg sungguh sangat luar biasa arsitekturn...</td>\n",
       "    </tr>\n",
       "    <tr>\n",
       "      <th>1</th>\n",
       "      <td>Saya menginap 26 Mei,  awal sampai di hotel ta...</td>\n",
       "    </tr>\n",
       "    <tr>\n",
       "      <th>2</th>\n",
       "      <td>Kunjungan saat new normal,dapat harga flash sa...</td>\n",
       "    </tr>\n",
       "    <tr>\n",
       "      <th>3</th>\n",
       "      <td>Hotel yang berada di pusat kota Batu ini menye...</td>\n",
       "    </tr>\n",
       "    <tr>\n",
       "      <th>4</th>\n",
       "      <td>hotel ini bisa menjadi salah satu alternatif s...</td>\n",
       "    </tr>\n",
       "    <tr>\n",
       "      <th>...</th>\n",
       "      <td>...</td>\n",
       "    </tr>\n",
       "    <tr>\n",
       "      <th>279</th>\n",
       "      <td>Kami menginap di kamar superior. Kamarnya cuku...</td>\n",
       "    </tr>\n",
       "    <tr>\n",
       "      <th>280</th>\n",
       "      <td>Favorit saya saat ini adalah ketika saya duduk...</td>\n",
       "    </tr>\n",
       "    <tr>\n",
       "      <th>281</th>\n",
       "      <td>Kami tinggal di royal orchid untuk 2 malam di ...</td>\n",
       "    </tr>\n",
       "    <tr>\n",
       "      <th>282</th>\n",
       "      <td>untuk merayakan liburan weekand, saya bersama ...</td>\n",
       "    </tr>\n",
       "    <tr>\n",
       "      <th>283</th>\n",
       "      <td>Kamar - rata-rata (tidak ada ac)... kami tingg...</td>\n",
       "    </tr>\n",
       "  </tbody>\n",
       "</table>\n",
       "<p>284 rows × 1 columns</p>\n",
       "</div>"
      ],
      "text/plain": [
       "                                                Review\n",
       "0    Hotel yg sungguh sangat luar biasa arsitekturn...\n",
       "1    Saya menginap 26 Mei,  awal sampai di hotel ta...\n",
       "2    Kunjungan saat new normal,dapat harga flash sa...\n",
       "3    Hotel yang berada di pusat kota Batu ini menye...\n",
       "4    hotel ini bisa menjadi salah satu alternatif s...\n",
       "..                                                 ...\n",
       "279  Kami menginap di kamar superior. Kamarnya cuku...\n",
       "280  Favorit saya saat ini adalah ketika saya duduk...\n",
       "281  Kami tinggal di royal orchid untuk 2 malam di ...\n",
       "282  untuk merayakan liburan weekand, saya bersama ...\n",
       "283  Kamar - rata-rata (tidak ada ac)... kami tingg...\n",
       "\n",
       "[284 rows x 1 columns]"
      ]
     },
     "execution_count": 9,
     "metadata": {},
     "output_type": "execute_result"
    }
   ],
   "source": [
    "#Importing Indonesian Reviews data\n",
    "reviews_indo = pd.read_csv('reviews indo.csv')\n",
    "reviews_indo"
   ]
  },
  {
   "cell_type": "markdown",
   "id": "0019b52c-ea51-47d1-87a6-996f8640bb70",
   "metadata": {},
   "source": [
    "# Installing Vader-Multi"
   ]
  },
  {
   "cell_type": "markdown",
   "id": "8aaf495c-e995-4bd4-90c3-6a6afe81f931",
   "metadata": {},
   "source": [
    "### Vader-Multi is able to read reviews that not in English"
   ]
  },
  {
   "cell_type": "code",
   "execution_count": 10,
   "id": "679d5c5b-d490-43ec-bce7-bc8ef634f748",
   "metadata": {},
   "outputs": [
    {
     "name": "stdout",
     "output_type": "stream",
     "text": [
      "Requirement already satisfied: vader-multi in c:\\programdata\\anaconda3\\lib\\site-packages (3.2.2.1)\n",
      "Requirement already satisfied: requests in c:\\programdata\\anaconda3\\lib\\site-packages (from vader-multi) (2.27.1)\n",
      "Requirement already satisfied: translatte in c:\\programdata\\anaconda3\\lib\\site-packages (from vader-multi) (0.1)\n",
      "Requirement already satisfied: charset-normalizer~=2.0.0 in c:\\programdata\\anaconda3\\lib\\site-packages (from requests->vader-multi) (2.0.4)\n",
      "Requirement already satisfied: urllib3<1.27,>=1.21.1 in c:\\programdata\\anaconda3\\lib\\site-packages (from requests->vader-multi) (1.26.9)\n",
      "Requirement already satisfied: idna<4,>=2.5 in c:\\programdata\\anaconda3\\lib\\site-packages (from requests->vader-multi) (3.3)\n",
      "Requirement already satisfied: certifi>=2017.4.17 in c:\\programdata\\anaconda3\\lib\\site-packages (from requests->vader-multi) (2021.10.8)\n",
      "Note: you may need to restart the kernel to use updated packages.\n"
     ]
    }
   ],
   "source": [
    "pip install vader-multi"
   ]
  },
  {
   "cell_type": "markdown",
   "id": "254634f7-30d4-4d6a-890e-7b719c7fba46",
   "metadata": {},
   "source": [
    "# Analyzing Indonesian Reviews"
   ]
  },
  {
   "cell_type": "markdown",
   "id": "30295bb1-e370-41ec-8e78-d534c8019d0b",
   "metadata": {},
   "source": [
    "### Same as pervious analysis, it will devided into Positive, Neutral, and Negative reviews"
   ]
  },
  {
   "cell_type": "code",
   "execution_count": 11,
   "id": "08e3803d-3a79-4e0c-aef9-b70e0541c26d",
   "metadata": {},
   "outputs": [
    {
     "name": "stdout",
     "output_type": "stream",
     "text": [
      "                                              Review  Positive  Negative  \\\n",
      "0  Hotel yg sungguh sangat luar biasa arsitekturn...     0.211     0.000   \n",
      "1  Saya menginap 26 Mei,  awal sampai di hotel ta...     0.133     0.071   \n",
      "2  Kunjungan saat new normal,dapat harga flash sa...     0.134     0.000   \n",
      "3  Hotel yang berada di pusat kota Batu ini menye...     0.206     0.022   \n",
      "4  hotel ini bisa menjadi salah satu alternatif s...     0.084     0.000   \n",
      "\n",
      "   Neutral  \n",
      "0    0.789  \n",
      "1    0.796  \n",
      "2    0.866  \n",
      "3    0.771  \n",
      "4    0.916  \n"
     ]
    }
   ],
   "source": [
    "from vaderSentiment.vaderSentiment import SentimentIntensityAnalyzer\n",
    "sentiments = SentimentIntensityAnalyzer()\n",
    "reviews_indo[\"Positive\"] = [sentiments.polarity_scores(i)[\"pos\"] for i in reviews_indo[\"Review\"]]\n",
    "reviews_indo[\"Negative\"] = [sentiments.polarity_scores(i)[\"neg\"] for i in reviews_indo[\"Review\"]]\n",
    "reviews_indo[\"Neutral\"] = [sentiments.polarity_scores(i)[\"neu\"] for i in reviews_indo[\"Review\"]]\n",
    "print(reviews_indo.head())"
   ]
  },
  {
   "cell_type": "code",
   "execution_count": 12,
   "id": "4aee10dc-bd49-40aa-8d8d-69cfdc27ccc9",
   "metadata": {},
   "outputs": [
    {
     "name": "stdout",
     "output_type": "stream",
     "text": [
      "Neutral 🙂 \n"
     ]
    }
   ],
   "source": [
    "x = sum(reviews_indo[\"Positive\"])\n",
    "y = sum(reviews_indo[\"Negative\"])\n",
    "z = sum(reviews_indo[\"Neutral\"])\n",
    "\n",
    "def sentiment_score(a, b, c):\n",
    "    if (a>b) and (a>c):\n",
    "        print(\"Positive 😊 \")\n",
    "    elif (b>a) and (b>c):\n",
    "        print(\"Negative 😠 \")\n",
    "    else:\n",
    "        print(\"Neutral 🙂 \")\n",
    "sentiment_score(x, y, z)"
   ]
  },
  {
   "cell_type": "markdown",
   "id": "a686541c-dd22-4be9-a268-3926f7e45968",
   "metadata": {},
   "source": [
    "### Again, the result is that most of the reviews are neutral"
   ]
  },
  {
   "cell_type": "code",
   "execution_count": 13,
   "id": "e66aa9d2-f822-46f3-83ca-fc41fb6414cf",
   "metadata": {},
   "outputs": [
    {
     "name": "stdout",
     "output_type": "stream",
     "text": [
      "Positive:  60.59700000000003\n",
      "Negative:  7.980999999999997\n",
      "Neutral:  215.3800000000001\n"
     ]
    }
   ],
   "source": [
    "print(\"Positive: \", x)\n",
    "print(\"Negative: \", y)\n",
    "print(\"Neutral: \", z)"
   ]
  },
  {
   "cell_type": "code",
   "execution_count": 14,
   "id": "0dece17c-28f8-48d9-9953-db94b4e92538",
   "metadata": {},
   "outputs": [
    {
     "name": "stdout",
     "output_type": "stream",
     "text": [
      "Percentage of Positive Review: 21.336971830985924%\n",
      "Percentage of Negative Review: 2.8102112676056326%\n",
      "Percentage of Neutral Review: 75.83802816901412%\n"
     ]
    }
   ],
   "source": [
    "print('Percentage of Positive Review: {}%'.format(x*100/len(reviews_indo['Review'])))\n",
    "print('Percentage of Negative Review: {}%'.format(y*100/len(reviews_indo['Review'])))\n",
    "print('Percentage of Neutral Review: {}%'.format(z*100/len(reviews_indo['Review'])))"
   ]
  },
  {
   "cell_type": "markdown",
   "id": "b0f17586-bba3-45a9-98af-018338fd1545",
   "metadata": {},
   "source": [
    "### Based on the sentiment analysis, we can conclude that most of people have neutral sentiment on hotel (75.8%), however, the ngeative sentiment consist only 2.8% which much small number compared with english reviews."
   ]
  },
  {
   "cell_type": "code",
   "execution_count": 15,
   "id": "7e3dddda-c52d-4ee9-a7fb-80b940fdbbca",
   "metadata": {},
   "outputs": [
    {
     "data": {
      "image/png": "[encoded data removed]",
      "text/plain": [
       "<Figure size 432x288 with 1 Axes>"
      ]
     },
     "metadata": {
      "needs_background": "light"
     },
     "output_type": "display_data"
    }
   ],
   "source": [
    "# x-coordinates of left sides of bars \n",
    "left = [1, 2, 3]\n",
    "  \n",
    "# heights of bars\n",
    "height = [4.400000000000001, 73.51200000000001, 21.087000000000003]\n",
    "  \n",
    "# labels for bars\n",
    "tick_label = ['Negative', 'Neutral', 'Positive']\n",
    "  \n",
    "# plotting a bar chart\n",
    "plt.bar(left, height, tick_label = tick_label,\n",
    "        width = 0.8, color = ['red', 'grey', 'blue'])\n",
    "  \n",
    "# naming the x-axis\n",
    "plt.xlabel('x - axis')\n",
    "# naming the y-axis\n",
    "plt.ylabel('y - axis')\n",
    "# plot title\n",
    "plt.title('English Reviews Sentiment')\n",
    "  \n",
    "# function to show the plot\n",
    "plt.show()"
   ]
  },
  {
   "cell_type": "code",
   "execution_count": 16,
   "id": "21fb6bce-ccba-4727-b73d-57bcee33dd48",
   "metadata": {},
   "outputs": [
    {
     "data": {
      "image/png": "[encoded data removed]",
      "text/plain": [
       "<Figure size 432x288 with 1 Axes>"
      ]
     },
     "metadata": {
      "needs_background": "light"
     },
     "output_type": "display_data"
    }
   ],
   "source": [
    "# x-coordinates of left sides of bars \n",
    "left = [1, 2, 3]\n",
    "  \n",
    "# heights of bars\n",
    "height = [7.995999999999998, 215.39200000000008, 60.69100000000002]\n",
    "  \n",
    "# labels for bars\n",
    "tick_label = ['Negative', 'Neutral', 'Positive']\n",
    "  \n",
    "# plotting a bar chart\n",
    "plt.bar(left, height, tick_label = tick_label,\n",
    "        width = 0.8, color = ['red', 'grey', 'blue'])\n",
    "  \n",
    "# naming the x-axis\n",
    "plt.xlabel('x - axis')\n",
    "# naming the y-axis\n",
    "plt.ylabel('y - axis')\n",
    "# plot title\n",
    "plt.title('Indonesian Reviews Sentiment')\n",
    "  \n",
    "# function to show the plot\n",
    "plt.show()"
   ]
  },
  {
   "cell_type": "code",
   "execution_count": 17,
   "id": "f340e346-3f78-411f-844b-1815b1b7ba20",
   "metadata": {},
   "outputs": [
    {
     "data": {
      "text/plain": [
       "<matplotlib.legend.Legend at 0x1efeb5b06a0>"
      ]
     },
     "execution_count": 17,
     "metadata": {},
     "output_type": "execute_result"
    },
    {
     "data": {
      "image/png": "[encoded data removed]",
      "text/plain": [
       "<Figure size 432x288 with 1 Axes>"
      ]
     },
     "metadata": {},
     "output_type": "display_data"
    }
   ],
   "source": [
    "import matplotlib.pyplot as plt\n",
    "  \n",
    "# defining labels\n",
    "activities = ['Negative', 'Neutral', 'Positive']\n",
    "  \n",
    "# portion covered by each label\n",
    "slices = [4.400000000000001, 73.51200000000001, 21.087000000000003]\n",
    "  \n",
    "# color for each label\n",
    "colors = ['r', 'g', 'b']\n",
    "  \n",
    "# plotting the pie chart\n",
    "fig = plt.pie(slices, labels = activities, colors=colors, \n",
    "        startangle=90, shadow = True, explode = (0, 0, 0),\n",
    "        radius = 1.2, autopct = '%1.1f%%')\n",
    "# plot title\n",
    "plt.title('English Reviews Sentiment')\n",
    "\n",
    "# plotting legend\n",
    "plt.legend()"
   ]
  },
  {
   "cell_type": "code",
   "execution_count": 18,
   "id": "c0d88c77-0820-4265-8805-123500e5897a",
   "metadata": {},
   "outputs": [
    {
     "data": {
      "text/plain": [
       "<matplotlib.legend.Legend at 0x1efed10ec70>"
      ]
     },
     "execution_count": 18,
     "metadata": {},
     "output_type": "execute_result"
    },
    {
     "data": {
      "image/png": "[encoded data removed]",
      "text/plain": [
       "<Figure size 432x288 with 1 Axes>"
      ]
     },
     "metadata": {},
     "output_type": "display_data"
    }
   ],
   "source": [
    "import matplotlib.pyplot as plt\n",
    "  \n",
    "# defining labels\n",
    "activities = ['Negative', 'Neutral', 'Positive']\n",
    "  \n",
    "# portion covered by each label\n",
    "slices = [7.995999999999998, 215.39200000000008, 60.69100000000002]\n",
    "  \n",
    "# color for each label\n",
    "colors = ['r', 'g', 'b']\n",
    "  \n",
    "# plotting the pie chart\n",
    "fig = plt.pie(slices, labels = activities, colors=colors, \n",
    "        startangle=90, shadow = True, explode = (0, 0, 0),\n",
    "        radius = 1.2, autopct = '%1.1f%%')\n",
    "# plot title\n",
    "plt.title('Indonesian Reviews Sentiment')\n",
    "\n",
    "# plotting legend\n",
    "plt.legend()"
   ]
  },
  {
   "cell_type": "markdown",
   "id": "26526654-38f9-42aa-bb3e-9ab19a407fc0",
   "metadata": {},
   "source": [
    "# Conclusions"
   ]
  },
  {
   "cell_type": "markdown",
   "id": "42f28f02-c94c-4ebb-9cfd-f4733268fdb0",
   "metadata": {},
   "source": [
    "### 1. Both data show that arround 75% reviews show neutral sentiment, meanwhile positve sentiments got less than a quarter (21%) of data.\n",
    "### 2. The negative sentiments are not much to worry about, it has 4.4% from English reviews and even 2.2% from Indonesian reviews"
   ]
  },
  {
   "cell_type": "markdown",
   "id": "dd47e468-fa12-4a5c-834d-fb703153f752",
   "metadata": {},
   "source": [
    "# Recommendations"
   ]
  },
  {
   "cell_type": "markdown",
   "id": "9aafcb21-82a9-4491-b6aa-4857c3f7970a",
   "metadata": {},
   "source": [
    "### 1. Another deeper analysis on reviews are needed. We can get more insight from reviews if we digging  the data more. For example: finding keywords that determining the reviews\n",
    "### 2. Hotel managers should start evaluating based on reviews. The satisfaction of visitor is the key performance indicator of hotel success. However, in order to understanding what visitor want, the hotel management should look to  the visitors feedback to getting know the visitors better. The managemnets can start by looking at the feedbacks from numerous hotel information website (such TripAdvisor and Traveloka)\n",
    "### 3. It is important to be aware with the current marketing trends of based on the environment. The visitors who choose the hotel are attracted with any Tourist spots that surrounding the hotel. Visitors nowdays are willing that hotel provide any kind of service that match with their interest in hotel suroounding area\n",
    "### 4. With a costumers and marketing trends orriented planning, the improvement of hotel may be achieved with low cost. Understanding costumers based on data and being aware with market trend in Batu city will help to develop marketing plan to improve the hotel quality services and ultimately, increasing the number of visitors. "
   ]
  },
  {
   "cell_type": "markdown",
   "id": "c3f0f6ef-f8a7-414f-9d26-56c05b01d8b9",
   "metadata": {},
   "source": [
    "# References"
   ]
  },
  {
   "cell_type": "markdown",
   "id": "13ebb53f-30cb-4248-93ce-e9e46cf68c8c",
   "metadata": {},
   "source": [
    "### 1. https://studycorgi.com/hotel-management-performance-improvement-plan/\n",
    "### 2. González-Ramírez, Reyes, et al. “ITCs in Hotel Management: A Research Review.” International Journal of Contemporary Hospitality Management, vol. 31 no.9, 2019, pp. 3583-3609."
   ]
  },
  {
   "cell_type": "markdown",
   "id": "5b34893b-a4d6-4af3-b0a5-6a178615c2f8",
   "metadata": {},
   "source": [
    "# Thank You"
   ]
  },
  {
   "cell_type": "markdown",
   "id": "1d510f85-44ef-46c4-9055-cdf874faaba0",
   "metadata": {},
   "source": [
    "# Your feedbacks on my analysis method are important :)"
   ]
  },
  {
   "cell_type": "code",
   "execution_count": null,
   "id": "9cc2c74f-f21f-43c7-92ad-555e182cce9a",
   "metadata": {},
   "outputs": [],
   "source": []
  }
 ],
 "metadata": {
  "kernelspec": {
   "display_name": "Python 3 (ipykernel)",
   "language": "python",
   "name": "python3"
  },
  "language_info": {
   "codemirror_mode": {
    "name": "ipython",
    "version": 3
   },
   "file_extension": ".py",
   "mimetype": "text/x-python",
   "name": "python",
   "nbconvert_exporter": "python",
   "pygments_lexer": "ipython3",
   "version": "3.9.12"
  }
 },
 "nbformat": 4,
 "nbformat_minor": 5
}
